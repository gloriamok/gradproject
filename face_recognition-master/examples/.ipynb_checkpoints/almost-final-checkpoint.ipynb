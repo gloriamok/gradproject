{
 "cells": [
  {
   "cell_type": "code",
   "execution_count": 1,
   "metadata": {},
   "outputs": [],
   "source": [
    "# 사진 encoding한 것을 담기 위한 배열 초기 설정\n",
    "\n",
    "number_of_people = 10\n",
    "number_of_photos = 20\n",
    "\n",
    "encodings = [[0 for j in range(number_of_photos)] for i in range(number_of_people)]\n",
    "names = [[0 for j in range(number_of_photos)] for i in range(number_of_people)]\n",
    "\n",
    "order_ppl = 0"
   ]
  },
  {
   "cell_type": "code",
   "execution_count": 2,
   "metadata": {
    "scrolled": true
   },
   "outputs": [
    {
     "name": "stdout",
     "output_type": "stream",
     "text": [
      "time : 189.66952800750732\n",
      "[['person_1', 'person_1', 'person_1', 'person_1', 'person_1', 'person_1', 'person_1', 'person_1', 'person_1', 'person_1', 'person_1', 'person_1', 'person_1', 'person_1', 'person_1', 'person_1', 'person_1', 'person_1', 'person_1', 'person_1'], ['person_10', 'person_10', 'person_10', 'person_10', 'person_10', 'person_10', 'person_10', 'person_10', 'person_10', 'person_10', 'person_10', 'person_10', 'person_10', 'person_10', 'person_10', 'person_10', 'person_10', 'person_10', 'person_10', 'person_10'], ['person_2', 'person_2', 'person_2', 'person_2', 'person_2', 'person_2', 'person_2', 'person_2', 'person_2', 'person_2', 'person_2', 'person_2', 'person_2', 'person_2', 'person_2', 'person_2', 'person_2', 'person_2', 'person_2', 'person_2'], ['person_3', 'person_3', 'person_3', 'person_3', 'person_3', 'person_3', 'person_3', 'person_3', 'person_3', 'person_3', 'person_3', 'person_3', 'person_3', 'person_3', 'person_3', 'person_3', 'person_3', 'person_3', 'person_3', 'person_3'], ['person_4', 'person_4', 'person_4', 'person_4', 'person_4', 'person_4', 'person_4', 'person_4', 'person_4', 'person_4', 'person_4', 'person_4', 'person_4', 'person_4', 'person_4', 'person_4', 'person_4', 'person_4', 'person_4', 'person_4'], ['person_5', 'person_5', 'person_5', 'person_5', 'person_5', 'person_5', 'person_5', 'person_5', 'person_5', 'person_5', 'person_5', 'person_5', 'person_5', 'person_5', 'person_5', 'person_5', 'person_5', 'person_5', 'person_5', 'person_5'], ['person_6', 'person_6', 'person_6', 'person_6', 'person_6', 'person_6', 'person_6', 'person_6', 'person_6', 'person_6', 'person_6', 'person_6', 'person_6', 'person_6', 'person_6', 'person_6', 'person_6', 'person_6', 'person_6', 'person_6'], ['person_7', 'person_7', 'person_7', 'person_7', 'person_7', 'person_7', 'person_7', 'person_7', 'person_7', 'person_7', 'person_7', 'person_7', 'person_7', 'person_7', 'person_7', 'person_7', 'person_7', 'person_7', 'person_7', 'person_7'], ['person_8', 'person_8', 'person_8', 'person_8', 'person_8', 'person_8', 'person_8', 'person_8', 'person_8', 'person_8', 'person_8', 'person_8', 'person_8', 'person_8', 'person_8', 'person_8', 'person_8', 'person_8', 'person_8', 'person_8'], ['person_9', 'person_9', 'person_9', 'person_9', 'person_9', 'person_9', 'person_9', 'person_9', 'person_9', 'person_9', 'person_9', 'person_9', 'person_9', 'person_9', 'person_9', 'person_9', 'person_9', 'person_9', 'person_9', 'person_9']]\n"
     ]
    }
   ],
   "source": [
    "# 미리 200장의 사진을 encoding함\n",
    "\n",
    "import face_recognition\n",
    "import os\n",
    "\n",
    "# import time\n",
    "# start = time.time()\n",
    "\n",
    "# Training directory\n",
    "train_dir = os.listdir('train_dir/')\n",
    "\n",
    "# Loop through each person in the training directory\n",
    "for person in train_dir:\n",
    "    pix = os.listdir(\"train_dir/\" + person)\n",
    "    order_pic = 0\n",
    "    # Loop through each training image for the current person\n",
    "    for person_img in pix:\n",
    "        # Get the face encodings for the face in each image file\n",
    "        face = face_recognition.load_image_file(\"train_dir/\" + person + \"/\" + person_img)\n",
    "        face_bounding_boxes = face_recognition.face_locations(face)\n",
    "        #If training image contains exactly one face\n",
    "        if len(face_bounding_boxes) == 1:\n",
    "            face_enc = face_recognition.face_encodings(face)[0]\n",
    "            # Add face encoding for current image with corresponding label (name) to the training data\n",
    "            # encodings.append(face_enc)\n",
    "            # names.append(person)\n",
    "            encodings[order_ppl][order_pic] = face_enc\n",
    "            names[order_ppl][order_pic] = person\n",
    "        else:\n",
    "            print(person + \"/\" + person_img + \" was skipped and can't be used for training\")\n",
    "        order_pic += 1\n",
    "    order_ppl += 1\n",
    "\n",
    "# print(\"time :\", time.time() - start)\n",
    "# print(names)"
   ]
  },
  {
   "cell_type": "code",
   "execution_count": 3,
   "metadata": {},
   "outputs": [
    {
     "name": "stdout",
     "output_type": "stream",
     "text": [
      "joohyuknam nam\n",
      "yoojungkim kim\n",
      "suzybae bae\n",
      "bogumpark park\n",
      "jongsuklee lee\n",
      "eunwoocha cha\n",
      "yoonahim im\n",
      "jieunlee lee\n",
      "jinyoungpark park\n",
      "minashin shin\n"
     ]
    }
   ],
   "source": [
    "from PIL import Image, ImageDraw\n",
    "import numpy as np\n",
    "\n",
    "import pymysql\n",
    "\n",
    "# MySQL 연결 - DB server에 연결, 정상적으로 연결이 수립되면 커넥션 객체를 반환\n",
    "#conn = pymysql.connect(host='localhost', user='root', password='1234', db='encore', charset='utf8')\n",
    "conn = pymysql.connect(host='localhost', user='sptest', password='sptest', db='testdb', charset='utf8')\n",
    "# 커서 생성 - 커넥션 객체를 통해 데이터베이스에서 SQL문을 대신 실행해주고 결과를 반환해 줄 커서 객체를 생성한다.\n",
    "cur = conn.cursor()\n",
    "# 데이터 조회 - 커서에 SELECT로 조회한 결과를 한꺼번에 저장\n",
    "# sql = 'select * from departments where department_id=%s'\n",
    "# vals = (department_id,)\n",
    "# cur.execute(sql, vals)\n",
    "# sql = \"SELECT * FROM USER\"\n",
    "# cur.execute(sql)\n",
    "\n",
    "# 조회결과를 커서에서 fetch - 조회한 데이터를 커서객체에서 한 행씩 접근하여 출력\n",
    "# 여러 줄 출력\n",
    "# for row in cur:\n",
    "#     print(row[0], row[1])"
   ]
  },
  {
   "cell_type": "code",
   "execution_count": 17,
   "metadata": {},
   "outputs": [
    {
     "name": "stdout",
     "output_type": "stream",
     "text": [
      "\n",
      "DATA inserted succesfully\n"
     ]
    },
    {
     "data": {
      "text/plain": [
       "0"
      ]
     },
     "execution_count": 17,
     "metadata": {},
     "output_type": "execute_result"
    }
   ],
   "source": [
    "# 웹페이지에서 하는 일\n",
    "# 얼굴인식한 사진을 mysql DB의 Unknown table에 저장\n",
    "\n",
    "# MySQL에 이미지 저장\n",
    "import base64\n",
    "import io\n",
    "\n",
    "def convert(filename):\n",
    "    with open(filename, 'rb') as file:\n",
    "        binary = file.read()\n",
    "        binary = base64.b64encode(binary)\n",
    "    return binary\n",
    "\n",
    "def insert_unknown(unknownId,photo):\n",
    "    photo = convert(photo)\n",
    "    sql = \"INSERT INTO UNKNOWN (unknownId, unknownFace) VALUES(%s,%s)\"\n",
    "    cur.execute(sql, (unknownId, photo))\n",
    "    conn.commit()\n",
    "    print(\"\\nDATA inserted succesfully\")\n",
    "    return 0\n",
    "\n",
    "# insert_unknown(\"joohyuknam\",\"test\\\\gray.jpg\")"
   ]
  },
  {
   "cell_type": "code",
   "execution_count": 18,
   "metadata": {},
   "outputs": [
    {
     "name": "stdout",
     "output_type": "stream",
     "text": [
      "joohyuknam\n"
     ]
    }
   ],
   "source": [
    "# 얼굴인식한 사람이 입력한 아이디를 가져옴\n",
    "sql = \"SELECT * FROM UNKNOWN\"\n",
    "cur.execute(sql)\n",
    "row = cur.fetchone()\n",
    "unknownId = row[0]\n",
    "print(unknownId)"
   ]
  },
  {
   "cell_type": "code",
   "execution_count": 19,
   "metadata": {},
   "outputs": [
    {
     "name": "stdout",
     "output_type": "stream",
     "text": [
      "person_1\n",
      "['person_1', 'person_1', 'person_1', 'person_1', 'person_1', 'person_1', 'person_1', 'person_1', 'person_1', 'person_1', 'person_1', 'person_1', 'person_1', 'person_1', 'person_1', 'person_1', 'person_1', 'person_1', 'person_1', 'person_1']\n"
     ]
    }
   ],
   "source": [
    "# 이미 db에 저장되어있는 사진과\n",
    "# 얼굴인식한 사람이 입력한 아이디의 사진과 비교\n",
    "# 이미 db에 저장되어있는 사진들은 각각 encoding이 완료된 상태여야 함***\n",
    "userId_dict = {\"joohyuknam\":\"person_1\", \"yoojungkim\":\"person_2\", \"suzybae\":\"person_3\", \"bogumpark\":\"person_4\", \"jongsuklee\":\"person_5\", \"eunwoocha\":\"person_6\", \"yoonahim\":\"person_7\", \"jieunlee\":\"person_8\", \"jinyoungpark\":\"person_9\", \"minashin\":\"person_10\"}\n",
    "person_to_compare = userId_dict[unknownId]\n",
    "print(person_to_compare)\n",
    "\n",
    "encodings_selected = []\n",
    "names_selected = []\n",
    "\n",
    "for idx, name in enumerate(names):\n",
    "    if name[0] == person_to_compare:\n",
    "        for face_enc, person in zip(encodings[idx], names[idx]):\n",
    "            encodings_selected.append(face_enc)\n",
    "            names_selected.append(person)            \n",
    "\n",
    "# print(names_selected)"
   ]
  },
  {
   "cell_type": "code",
   "execution_count": 20,
   "metadata": {},
   "outputs": [
    {
     "name": "stdout",
     "output_type": "stream",
     "text": [
      "0.41074769819632395\n",
      "0.589252301803676\n",
      "joohyuknam FALSE\n"
     ]
    }
   ],
   "source": [
    "import sys\n",
    "\n",
    "#얼굴인식한 사진을 mysql에서 갖고 옴\n",
    "def retriveImage(unknownId):\n",
    "    sql = \"SELECT unknownFace FROM UNKNOWN WHERE unknownId=%s\"\n",
    "    cur.execute(sql, (unknownId,))\n",
    "    results = cur.fetchall()\n",
    "    # the returned data will be a list of list\n",
    "    image = results[0][0]\n",
    "    # Decode the string\n",
    "    binary_data = base64.b64decode(image)\n",
    "    #np.frombuffer(binary_data, dtype = np.float64)\n",
    "    # Convert the bytes into a PIL image\n",
    "    #image = Image.open(io.BytesIO(image))\n",
    "    image = Image.open(io.BytesIO(binary_data))\n",
    "    # Display the image using default image app\n",
    "    image.show()\n",
    "    return image\n",
    "\n",
    "unknown_Image = retriveImage(unknownId)\n",
    "\n",
    "#convert a PIL Image into a NumPy array\n",
    "unknown_Image2 = np.array(unknown_Image)\n",
    "\n",
    "\n",
    "# 얼굴인식 사진을 person_to_compare로 인코딩한 사진들과 비교\n",
    "def face_recognition_result(image_to_test):\n",
    "    image_to_test_encoding = face_recognition.face_encodings(image_to_test)\n",
    "    # print(len(image_to_test_encoding))\n",
    "    if (len(image_to_test_encoding) == 0) :\n",
    "        print(\"얼굴이 인식되지 않았습니다. 얼굴인식 프로그램을 종료합니다.\")\n",
    "        return\n",
    "    \n",
    "    '''\n",
    "    try:\n",
    "        image_to_test_encoding = face_recognition.face_encodings(image_to_test)[0]\n",
    "    except IndexError as e:\n",
    "        print(e)\n",
    "        print(unknownId + \" FALSE\")\n",
    "        sys.exit(1)\n",
    "    '''\n",
    "    image_to_test_encoding = face_recognition.face_encodings(image_to_test)[0]\n",
    "    \n",
    "    # See how far apart the test image is from the known faces\n",
    "    face_distances = face_recognition.face_distance(encodings_selected, image_to_test_encoding)\n",
    "\n",
    "    total=0\n",
    "\n",
    "    for i, face_distance in enumerate(face_distances):\n",
    "        # print(\"The test image has a distance of {:.2} from known image #{}\".format(face_distance, i))\n",
    "        total += face_distance\n",
    "        # print()\n",
    "\n",
    "    print(total/20)\n",
    "    print(1 - total/20)\n",
    "    \n",
    "    if (total/20 < 0.40):\n",
    "        print(unknownId + \" TRUE\")\n",
    "    else:\n",
    "        print(unknownId + \" FALSE\")\n",
    "\n",
    "face_recognition_result(unknown_Image2)"
   ]
  },
  {
   "cell_type": "code",
   "execution_count": 21,
   "metadata": {},
   "outputs": [
    {
     "name": "stdout",
     "output_type": "stream",
     "text": [
      "\n",
      "DATA deleted succesfully\n"
     ]
    },
    {
     "data": {
      "text/plain": [
       "0"
      ]
     },
     "execution_count": 21,
     "metadata": {},
     "output_type": "execute_result"
    }
   ],
   "source": [
    "def delete(unknownId):\n",
    "    sql = \"DELETE FROM UNKNOWN WHERE UNKNOWNID=%s\"\n",
    "    cur.execute(sql, (unknownId, ))\n",
    "    conn.commit()\n",
    "    print(\"\\nDATA deleted succesfully\")\n",
    "    return 0\n",
    "\n",
    "delete(unknownId)"
   ]
  },
  {
   "cell_type": "code",
   "execution_count": null,
   "metadata": {},
   "outputs": [],
   "source": []
  }
 ],
 "metadata": {
  "kernelspec": {
   "display_name": "Python 3",
   "language": "python",
   "name": "python3"
  },
  "language_info": {
   "codemirror_mode": {
    "name": "ipython",
    "version": 3
   },
   "file_extension": ".py",
   "mimetype": "text/x-python",
   "name": "python",
   "nbconvert_exporter": "python",
   "pygments_lexer": "ipython3",
   "version": "3.8.5"
  }
 },
 "nbformat": 4,
 "nbformat_minor": 4
}
