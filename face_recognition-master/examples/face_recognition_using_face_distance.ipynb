{
 "cells": [
  {
   "cell_type": "code",
   "execution_count": 1,
   "metadata": {},
   "outputs": [
    {
     "name": "stdout",
     "output_type": "stream",
     "text": [
      "person_3\n",
      "['person_3', 'person_3', 'person_3', 'person_3', 'person_3', 'person_3', 'person_3', 'person_3', 'person_3', 'person_3', 'person_3', 'person_3', 'person_3', 'person_3', 'person_3', 'person_3', 'person_3', 'person_3', 'person_3', 'person_3']\n"
     ]
    }
   ],
   "source": [
    "import face_recognition\n",
    "import os\n",
    "\n",
    "# 얼굴인식한 사람이 입력한 아이디를 가져와서, 누구의 사진과 비교할 지 선택?\n",
    "userId_dict = {\"jukyuknam\":\"person_1\", \"yoojungkim\":\"person_2\", \"suzibae\":\"person_3\"}\n",
    "unknownId = \"suzibae\" # 받아온 아이디\n",
    "person_to_compare = userId_dict[unknownId]\n",
    "print(person_to_compare)\n",
    "\n",
    "# The training data would be all the face encodings from all the known images and the labels are their names\n",
    "encodings = []\n",
    "names = []\n",
    "\n",
    "# Loop through each person in the training directory\n",
    "pix = os.listdir(\"train_dir/\" + person_to_compare)\n",
    "\n",
    "# Loop through each training image for the current person\n",
    "for person_img in pix:\n",
    "    # Get the face encodings for the face in each image file\n",
    "    face = face_recognition.load_image_file(\"train_dir/\" + person_to_compare + \"/\" + person_img)\n",
    "    face_bounding_boxes = face_recognition.face_locations(face)\n",
    "\n",
    "    #If training image contains exactly one face\n",
    "    if len(face_bounding_boxes) == 1:\n",
    "        face_enc = face_recognition.face_encodings(face)[0]\n",
    "        # Add face encoding for current image with corresponding label (name) to the training data\n",
    "        encodings.append(face_enc)\n",
    "        names.append(person_to_compare)\n",
    "    else:\n",
    "        print(\"train_dir/\" + person_img + \" was skipped and can't be used for training\")\n",
    "            \n",
    "            \n",
    "print(names)"
   ]
  },
  {
   "cell_type": "code",
   "execution_count": 2,
   "metadata": {},
   "outputs": [
    {
     "name": "stdout",
     "output_type": "stream",
     "text": [
      "0.38793260409026875\n",
      "0.6120673959097312\n",
      "suzibae TRUE\n",
      "0.3794972490711683\n",
      "0.6205027509288317\n",
      "suzibae TRUE\n",
      "0.4382947194131505\n",
      "0.5617052805868494\n",
      "suzibae FALSE\n"
     ]
    }
   ],
   "source": [
    "# 얼굴인식 사진을 갖고와서 person_to_compare로 인코딩한 사진들과 비교\n",
    "def face_recognition_result(unknownFace):\n",
    "    # Load a test image and get encondings for it\n",
    "    image_to_test = face_recognition.load_image_file(unknownFace)\n",
    "    image_to_test_encoding = face_recognition.face_encodings(image_to_test)[0]\n",
    "\n",
    "    # See how far apart the test image is from the known faces\n",
    "    face_distances = face_recognition.face_distance(encodings, image_to_test_encoding)\n",
    "\n",
    "    total=0\n",
    "\n",
    "    for i, face_distance in enumerate(face_distances):\n",
    "        # print(\"The test image has a distance of {:.2} from known image #{}\".format(face_distance, i))\n",
    "        total += face_distance\n",
    "        # print()\n",
    "\n",
    "    print(total/20)\n",
    "    print(1 - total/20)\n",
    "    \n",
    "    if (total/20 < 0.40):\n",
    "        print(unknownId + \" TRUE\")\n",
    "    else:\n",
    "        print(unknownId + \" FALSE\")\n",
    "    \n",
    "face_recognition_result(\"test\\\\suzi.jpg\")\n",
    "face_recognition_result(\"test\\\\suzi2.jpg\")\n",
    "face_recognition_result(\"test\\\\yoojung.jpg\")"
   ]
  },
  {
   "cell_type": "code",
   "execution_count": null,
   "metadata": {},
   "outputs": [],
   "source": []
  }
 ],
 "metadata": {
  "kernelspec": {
   "display_name": "Python 3",
   "language": "python",
   "name": "python3"
  },
  "language_info": {
   "codemirror_mode": {
    "name": "ipython",
    "version": 3
   },
   "file_extension": ".py",
   "mimetype": "text/x-python",
   "name": "python",
   "nbconvert_exporter": "python",
   "pygments_lexer": "ipython3",
   "version": "3.8.5"
  }
 },
 "nbformat": 4,
 "nbformat_minor": 4
}
