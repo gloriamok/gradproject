{
 "cells": [
  {
   "cell_type": "code",
   "execution_count": 23,
   "metadata": {
    "scrolled": true
   },
   "outputs": [
    {
     "name": "stdout",
     "output_type": "stream",
     "text": [
      "['person_1', 'person_1', 'person_1', 'person_1', 'person_1', 'person_1', 'person_1', 'person_1', 'person_1', 'person_1', 'person_2', 'person_2', 'person_2', 'person_2', 'person_2', 'person_2', 'person_2', 'person_2', 'person_2', 'person_2', 'person_3', 'person_3', 'person_3', 'person_3', 'person_3', 'person_3', 'person_3', 'person_3', 'person_3', 'person_3']\n",
      "Number of faces detected:  1\n",
      "Found:\n",
      "person_2\n"
     ]
    }
   ],
   "source": [
    "# Train multiple images per person\n",
    "# Find and recognize faces in an image using a SVC with scikit-learn\n",
    "\n",
    "\"\"\"\n",
    "Structure:\n",
    "        <test_image>.jpg\n",
    "        <train_dir>/\n",
    "            <person_1>/\n",
    "                <person_1_face-1>.jpg\n",
    "                <person_1_face-2>.jpg\n",
    "                .\n",
    "                .\n",
    "                <person_1_face-n>.jpg\n",
    "           <person_2>/\n",
    "                <person_2_face-1>.jpg\n",
    "                <person_2_face-2>.jpg\n",
    "                .\n",
    "                .\n",
    "                <person_2_face-n>.jpg\n",
    "            .\n",
    "            .\n",
    "            <person_n>/\n",
    "                <person_n_face-1>.jpg\n",
    "                <person_n_face-2>.jpg\n",
    "                .\n",
    "                .\n",
    "                <person_n_face-n>.jpg\n",
    "\"\"\"\n",
    "\n",
    "import face_recognition\n",
    "from sklearn import svm\n",
    "import os\n",
    "\n",
    "# Training the SVC classifier\n",
    "\n",
    "# The training data would be all the face encodings from all the known images and the labels are their names\n",
    "encodings = []\n",
    "names = []\n",
    "\n",
    "# Training directory\n",
    "train_dir = os.listdir('train_dir/')\n",
    "\n",
    "# Loop through each person in the training directory\n",
    "for person in train_dir:\n",
    "    pix = os.listdir(\"train_dir/\" + person)\n",
    "\n",
    "    # Loop through each training image for the current person\n",
    "    for person_img in pix:\n",
    "        # Get the face encodings for the face in each image file\n",
    "        face = face_recognition.load_image_file(\"train_dir/\" + person + \"/\" + person_img)\n",
    "        face_bounding_boxes = face_recognition.face_locations(face)\n",
    "\n",
    "        #If training image contains exactly one face\n",
    "        if len(face_bounding_boxes) == 1:\n",
    "            face_enc = face_recognition.face_encodings(face)[0]\n",
    "            # Add face encoding for current image with corresponding label (name) to the training data\n",
    "            encodings.append(face_enc)\n",
    "            names.append(person)\n",
    "        else:\n",
    "            print(person + \"/\" + person_img + \" was skipped and can't be used for training\")\n",
    "\n",
    "print(names)\n",
    "\n",
    "# Create and train the SVC classifier\n",
    "clf = svm.SVC(gamma='scale')\n",
    "clf.fit(encodings,names)\n",
    "\n",
    "# Load the test image with unknown faces into a numpy array\n",
    "test_image = face_recognition.load_image_file('test_image.jpg')\n",
    "\n",
    "# Find all the faces in the test image using the default HOG-based model\n",
    "face_locations = face_recognition.face_locations(test_image)\n",
    "no = len(face_locations)\n",
    "print(\"Number of faces detected: \", no)\n",
    "\n",
    "# Predict all the faces in the test image using the trained classifier\n",
    "print(\"Found:\")\n",
    "for i in range(no):\n",
    "    test_image_enc = face_recognition.face_encodings(test_image)[i]\n",
    "    name = clf.predict([test_image_enc])\n",
    "    print(*name)"
   ]
  },
  {
   "cell_type": "code",
   "execution_count": null,
   "metadata": {},
   "outputs": [],
   "source": []
  }
 ],
 "metadata": {
  "kernelspec": {
   "display_name": "Python 3",
   "language": "python",
   "name": "python3"
  },
  "language_info": {
   "codemirror_mode": {
    "name": "ipython",
    "version": 3
   },
   "file_extension": ".py",
   "mimetype": "text/x-python",
   "name": "python",
   "nbconvert_exporter": "python",
   "pygments_lexer": "ipython3",
   "version": "3.8.5"
  }
 },
 "nbformat": 4,
 "nbformat_minor": 4
}
